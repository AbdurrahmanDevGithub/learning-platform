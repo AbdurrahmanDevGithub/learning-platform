{
 "cells": [
  {
   "cell_type": "code",
   "execution_count": 37,
   "id": "02ec6f9b-8c37-48b9-81a2-ef6120584f87",
   "metadata": {},
   "outputs": [],
   "source": [
    "from pymongo import MongoClient\n",
    "import pandas as pd"
   ]
  },
  {
   "cell_type": "code",
   "execution_count": 38,
   "id": "8c519c55-41f5-4ed1-badc-e86d9b3a0c7e",
   "metadata": {},
   "outputs": [],
   "source": [
    "#connect to mongoDB\n",
    "client = MongoClient(\"mongodb://localhost:27017/\")\n",
    "db = client.learning\n",
    "collection = db.courses"
   ]
  },
  {
   "cell_type": "code",
   "execution_count": 39,
   "id": "fb2f8313-1449-4a9b-b038-7e0691207e84",
   "metadata": {},
   "outputs": [
    {
     "name": "stdout",
     "output_type": "stream",
     "text": [
      "              category             title        tutor  duration  \\\n",
      "0             Business  Business Related  Kandy Tutor         3   \n",
      "1           Technology           sdsdsfd        sdsdv         3   \n",
      "2       Art and Design           Drawing        Royal         3   \n",
      "3  Health and Wellness             mafas         mafa         5   \n",
      "\n",
      "            description                    image                    video  \\\n",
      "0  Hi hellow i am mafas  image-1736362810912.png  video-1736362810915.mp4   \n",
      "1                 dsvsv  image-1736416029981.png  video-1736416029983.mp4   \n",
      "2             ajkabskja  image-1736441730633.png  video-1736441730781.mp4   \n",
      "3                sjankx  image-1736448446219.png  video-1736448446222.mp4   \n",
      "\n",
      "                    tutorId               createdAt               updatedAt  \\\n",
      "0  677ecaecd60271cc5e433285 2025-01-08 19:00:10.952 2025-01-08 19:00:10.952   \n",
      "1  677ecaecd60271cc5e433285 2025-01-09 09:25:35.797 2025-01-09 09:47:10.003   \n",
      "2  677fff4a4b252bc2198f4b95 2025-01-09 16:55:30.825 2025-01-09 16:55:30.825   \n",
      "3  677fff4a4b252bc2198f4b95 2025-01-09 18:47:26.574 2025-01-09 18:47:26.574   \n",
      "\n",
      "   __v  \n",
      "0    0  \n",
      "1    0  \n",
      "2    0  \n",
      "3    0  \n"
     ]
    }
   ],
   "source": [
    "#Fetch data\n",
    "data = list(collection.find({}, {\"_id\": 0}))\n",
    "df = pd.DataFrame(data)\n",
    "\n",
    "#save to CSV\n",
    "df.to_csv(\"courses.csv\", index=False)\n",
    "\n",
    "print(df.head())"
   ]
  },
  {
   "cell_type": "code",
   "execution_count": 40,
   "id": "047c4e18-ecf2-40c1-8535-7623afa53139",
   "metadata": {},
   "outputs": [],
   "source": [
    "df = pd.read_csv(\"courses.csv\")"
   ]
  },
  {
   "cell_type": "code",
   "execution_count": 41,
   "id": "8581ac82-8223-4f7d-bc67-2566268c7200",
   "metadata": {},
   "outputs": [],
   "source": [
    "#Drop Irrelevent coulmns\n",
    "columns_to_drop = ['image','video','createdAt','updatedAt']\n",
    "\n",
    "df.drop(columns=columns_to_drop, inplace=True)"
   ]
  },
  {
   "cell_type": "code",
   "execution_count": 42,
   "id": "88c7efbb-97ba-4034-9e91-a442372ca9b8",
   "metadata": {},
   "outputs": [
    {
     "data": {
      "text/html": [
       "<div>\n",
       "<style scoped>\n",
       "    .dataframe tbody tr th:only-of-type {\n",
       "        vertical-align: middle;\n",
       "    }\n",
       "\n",
       "    .dataframe tbody tr th {\n",
       "        vertical-align: top;\n",
       "    }\n",
       "\n",
       "    .dataframe thead th {\n",
       "        text-align: right;\n",
       "    }\n",
       "</style>\n",
       "<table border=\"1\" class=\"dataframe\">\n",
       "  <thead>\n",
       "    <tr style=\"text-align: right;\">\n",
       "      <th></th>\n",
       "      <th>category</th>\n",
       "      <th>title</th>\n",
       "      <th>tutor</th>\n",
       "      <th>duration</th>\n",
       "      <th>description</th>\n",
       "      <th>tutorId</th>\n",
       "      <th>__v</th>\n",
       "    </tr>\n",
       "  </thead>\n",
       "  <tbody>\n",
       "    <tr>\n",
       "      <th>0</th>\n",
       "      <td>Business</td>\n",
       "      <td>Business Related</td>\n",
       "      <td>Kandy Tutor</td>\n",
       "      <td>3</td>\n",
       "      <td>Hi hellow i am mafas</td>\n",
       "      <td>677ecaecd60271cc5e433285</td>\n",
       "      <td>0</td>\n",
       "    </tr>\n",
       "    <tr>\n",
       "      <th>1</th>\n",
       "      <td>Technology</td>\n",
       "      <td>sdsdsfd</td>\n",
       "      <td>sdsdv</td>\n",
       "      <td>3</td>\n",
       "      <td>dsvsv</td>\n",
       "      <td>677ecaecd60271cc5e433285</td>\n",
       "      <td>0</td>\n",
       "    </tr>\n",
       "    <tr>\n",
       "      <th>2</th>\n",
       "      <td>Art and Design</td>\n",
       "      <td>Drawing</td>\n",
       "      <td>Royal</td>\n",
       "      <td>3</td>\n",
       "      <td>ajkabskja</td>\n",
       "      <td>677fff4a4b252bc2198f4b95</td>\n",
       "      <td>0</td>\n",
       "    </tr>\n",
       "    <tr>\n",
       "      <th>3</th>\n",
       "      <td>Health and Wellness</td>\n",
       "      <td>mafas</td>\n",
       "      <td>mafa</td>\n",
       "      <td>5</td>\n",
       "      <td>sjankx</td>\n",
       "      <td>677fff4a4b252bc2198f4b95</td>\n",
       "      <td>0</td>\n",
       "    </tr>\n",
       "  </tbody>\n",
       "</table>\n",
       "</div>"
      ],
      "text/plain": [
       "              category             title        tutor  duration  \\\n",
       "0             Business  Business Related  Kandy Tutor         3   \n",
       "1           Technology           sdsdsfd        sdsdv         3   \n",
       "2       Art and Design           Drawing        Royal         3   \n",
       "3  Health and Wellness             mafas         mafa         5   \n",
       "\n",
       "            description                   tutorId  __v  \n",
       "0  Hi hellow i am mafas  677ecaecd60271cc5e433285    0  \n",
       "1                 dsvsv  677ecaecd60271cc5e433285    0  \n",
       "2             ajkabskja  677fff4a4b252bc2198f4b95    0  \n",
       "3                sjankx  677fff4a4b252bc2198f4b95    0  "
      ]
     },
     "execution_count": 42,
     "metadata": {},
     "output_type": "execute_result"
    }
   ],
   "source": [
    "df"
   ]
  },
  {
   "cell_type": "code",
   "execution_count": 43,
   "id": "996c44b4-4c8e-4919-8681-2c26f39ec5c2",
   "metadata": {},
   "outputs": [],
   "source": [
    "#Normalized Text Columns\n",
    "\n",
    "def clean_text(text):\n",
    "    if pd.isnull(text):\n",
    "        return \"\"\n",
    "    text = text.lower()  # Convert to lowercase\n",
    "    text = re.sub(r'[^a-zA-Z0-9\\s]', '', text)  # Remove special characters\n",
    "    return text.strip()"
   ]
  },
  {
   "cell_type": "code",
   "execution_count": 44,
   "id": "2d8d4ca6-1444-4ad8-b2c1-58b13a6e9a7c",
   "metadata": {},
   "outputs": [
    {
     "data": {
      "text/html": [
       "<div>\n",
       "<style scoped>\n",
       "    .dataframe tbody tr th:only-of-type {\n",
       "        vertical-align: middle;\n",
       "    }\n",
       "\n",
       "    .dataframe tbody tr th {\n",
       "        vertical-align: top;\n",
       "    }\n",
       "\n",
       "    .dataframe thead th {\n",
       "        text-align: right;\n",
       "    }\n",
       "</style>\n",
       "<table border=\"1\" class=\"dataframe\">\n",
       "  <thead>\n",
       "    <tr style=\"text-align: right;\">\n",
       "      <th></th>\n",
       "      <th>category</th>\n",
       "      <th>title</th>\n",
       "      <th>tutor</th>\n",
       "      <th>duration</th>\n",
       "      <th>description</th>\n",
       "      <th>tutorId</th>\n",
       "      <th>__v</th>\n",
       "    </tr>\n",
       "  </thead>\n",
       "  <tbody>\n",
       "    <tr>\n",
       "      <th>0</th>\n",
       "      <td>Business</td>\n",
       "      <td>Business Related</td>\n",
       "      <td>Kandy Tutor</td>\n",
       "      <td>3</td>\n",
       "      <td>Hi hellow i am mafas</td>\n",
       "      <td>677ecaecd60271cc5e433285</td>\n",
       "      <td>0</td>\n",
       "    </tr>\n",
       "    <tr>\n",
       "      <th>1</th>\n",
       "      <td>Technology</td>\n",
       "      <td>sdsdsfd</td>\n",
       "      <td>sdsdv</td>\n",
       "      <td>3</td>\n",
       "      <td>dsvsv</td>\n",
       "      <td>677ecaecd60271cc5e433285</td>\n",
       "      <td>0</td>\n",
       "    </tr>\n",
       "    <tr>\n",
       "      <th>2</th>\n",
       "      <td>Art and Design</td>\n",
       "      <td>Drawing</td>\n",
       "      <td>Royal</td>\n",
       "      <td>3</td>\n",
       "      <td>ajkabskja</td>\n",
       "      <td>677fff4a4b252bc2198f4b95</td>\n",
       "      <td>0</td>\n",
       "    </tr>\n",
       "    <tr>\n",
       "      <th>3</th>\n",
       "      <td>Health and Wellness</td>\n",
       "      <td>mafas</td>\n",
       "      <td>mafa</td>\n",
       "      <td>5</td>\n",
       "      <td>sjankx</td>\n",
       "      <td>677fff4a4b252bc2198f4b95</td>\n",
       "      <td>0</td>\n",
       "    </tr>\n",
       "  </tbody>\n",
       "</table>\n",
       "</div>"
      ],
      "text/plain": [
       "              category             title        tutor  duration  \\\n",
       "0             Business  Business Related  Kandy Tutor         3   \n",
       "1           Technology           sdsdsfd        sdsdv         3   \n",
       "2       Art and Design           Drawing        Royal         3   \n",
       "3  Health and Wellness             mafas         mafa         5   \n",
       "\n",
       "            description                   tutorId  __v  \n",
       "0  Hi hellow i am mafas  677ecaecd60271cc5e433285    0  \n",
       "1                 dsvsv  677ecaecd60271cc5e433285    0  \n",
       "2             ajkabskja  677fff4a4b252bc2198f4b95    0  \n",
       "3                sjankx  677fff4a4b252bc2198f4b95    0  "
      ]
     },
     "execution_count": 44,
     "metadata": {},
     "output_type": "execute_result"
    }
   ],
   "source": [
    "df"
   ]
  },
  {
   "cell_type": "code",
   "execution_count": 45,
   "id": "9bcebf12-6ee2-44e8-b831-fe70628d5641",
   "metadata": {},
   "outputs": [
    {
     "name": "stdout",
     "output_type": "stream",
     "text": [
      "              category             title        tutor  duration  \\\n",
      "0             business  business related  kandy tutor         3   \n",
      "1           technology           sdsdsfd        sdsdv         3   \n",
      "2       art and design           drawing        royal         3   \n",
      "3  health and wellness             mafas         mafa         5   \n",
      "\n",
      "            description                   tutorId  __v  \n",
      "0  hi hellow i am mafas  677ecaecd60271cc5e433285    0  \n",
      "1                 dsvsv  677ecaecd60271cc5e433285    0  \n",
      "2             ajkabskja  677fff4a4b252bc2198f4b95    0  \n",
      "3                sjankx  677fff4a4b252bc2198f4b95    0  \n"
     ]
    }
   ],
   "source": [
    "text_columns = ['category', 'title', 'tutor', 'description']\n",
    "for col in text_columns:\n",
    "    df[col] = df[col].apply(clean_text)\n",
    "\n",
    "print(df)"
   ]
  },
  {
   "cell_type": "code",
   "execution_count": 46,
   "id": "76031fd6-6615-4dc5-8f34-5a1839224599",
   "metadata": {},
   "outputs": [
    {
     "data": {
      "text/html": [
       "<div>\n",
       "<style scoped>\n",
       "    .dataframe tbody tr th:only-of-type {\n",
       "        vertical-align: middle;\n",
       "    }\n",
       "\n",
       "    .dataframe tbody tr th {\n",
       "        vertical-align: top;\n",
       "    }\n",
       "\n",
       "    .dataframe thead th {\n",
       "        text-align: right;\n",
       "    }\n",
       "</style>\n",
       "<table border=\"1\" class=\"dataframe\">\n",
       "  <thead>\n",
       "    <tr style=\"text-align: right;\">\n",
       "      <th></th>\n",
       "      <th>category</th>\n",
       "      <th>title</th>\n",
       "      <th>tutor</th>\n",
       "      <th>duration</th>\n",
       "      <th>description</th>\n",
       "      <th>tutorId</th>\n",
       "      <th>__v</th>\n",
       "    </tr>\n",
       "  </thead>\n",
       "  <tbody>\n",
       "    <tr>\n",
       "      <th>0</th>\n",
       "      <td>business</td>\n",
       "      <td>business related</td>\n",
       "      <td>kandy tutor</td>\n",
       "      <td>3</td>\n",
       "      <td>hi hellow i am mafas</td>\n",
       "      <td>677ecaecd60271cc5e433285</td>\n",
       "      <td>0</td>\n",
       "    </tr>\n",
       "    <tr>\n",
       "      <th>1</th>\n",
       "      <td>technology</td>\n",
       "      <td>sdsdsfd</td>\n",
       "      <td>sdsdv</td>\n",
       "      <td>3</td>\n",
       "      <td>dsvsv</td>\n",
       "      <td>677ecaecd60271cc5e433285</td>\n",
       "      <td>0</td>\n",
       "    </tr>\n",
       "    <tr>\n",
       "      <th>2</th>\n",
       "      <td>art and design</td>\n",
       "      <td>drawing</td>\n",
       "      <td>royal</td>\n",
       "      <td>3</td>\n",
       "      <td>ajkabskja</td>\n",
       "      <td>677fff4a4b252bc2198f4b95</td>\n",
       "      <td>0</td>\n",
       "    </tr>\n",
       "    <tr>\n",
       "      <th>3</th>\n",
       "      <td>health and wellness</td>\n",
       "      <td>mafas</td>\n",
       "      <td>mafa</td>\n",
       "      <td>5</td>\n",
       "      <td>sjankx</td>\n",
       "      <td>677fff4a4b252bc2198f4b95</td>\n",
       "      <td>0</td>\n",
       "    </tr>\n",
       "  </tbody>\n",
       "</table>\n",
       "</div>"
      ],
      "text/plain": [
       "              category             title        tutor  duration  \\\n",
       "0             business  business related  kandy tutor         3   \n",
       "1           technology           sdsdsfd        sdsdv         3   \n",
       "2       art and design           drawing        royal         3   \n",
       "3  health and wellness             mafas         mafa         5   \n",
       "\n",
       "            description                   tutorId  __v  \n",
       "0  hi hellow i am mafas  677ecaecd60271cc5e433285    0  \n",
       "1                 dsvsv  677ecaecd60271cc5e433285    0  \n",
       "2             ajkabskja  677fff4a4b252bc2198f4b95    0  \n",
       "3                sjankx  677fff4a4b252bc2198f4b95    0  "
      ]
     },
     "execution_count": 46,
     "metadata": {},
     "output_type": "execute_result"
    }
   ],
   "source": [
    "df"
   ]
  },
  {
   "cell_type": "code",
   "execution_count": 47,
   "id": "e7bd495a-ff89-4e56-a354-281f468be6d2",
   "metadata": {},
   "outputs": [],
   "source": [
    "#Handle missing values\n",
    "df.fillna('', inplace=True)"
   ]
  },
  {
   "cell_type": "code",
   "execution_count": 48,
   "id": "ed5ce8e4-8ddb-4a4b-b35a-cec7b028fb9b",
   "metadata": {},
   "outputs": [
    {
     "data": {
      "text/html": [
       "<div>\n",
       "<style scoped>\n",
       "    .dataframe tbody tr th:only-of-type {\n",
       "        vertical-align: middle;\n",
       "    }\n",
       "\n",
       "    .dataframe tbody tr th {\n",
       "        vertical-align: top;\n",
       "    }\n",
       "\n",
       "    .dataframe thead th {\n",
       "        text-align: right;\n",
       "    }\n",
       "</style>\n",
       "<table border=\"1\" class=\"dataframe\">\n",
       "  <thead>\n",
       "    <tr style=\"text-align: right;\">\n",
       "      <th></th>\n",
       "      <th>category</th>\n",
       "      <th>title</th>\n",
       "      <th>tutor</th>\n",
       "      <th>duration</th>\n",
       "      <th>description</th>\n",
       "      <th>tutorId</th>\n",
       "      <th>__v</th>\n",
       "    </tr>\n",
       "  </thead>\n",
       "  <tbody>\n",
       "    <tr>\n",
       "      <th>0</th>\n",
       "      <td>business</td>\n",
       "      <td>business related</td>\n",
       "      <td>kandy tutor</td>\n",
       "      <td>3</td>\n",
       "      <td>hi hellow i am mafas</td>\n",
       "      <td>677ecaecd60271cc5e433285</td>\n",
       "      <td>0</td>\n",
       "    </tr>\n",
       "    <tr>\n",
       "      <th>1</th>\n",
       "      <td>technology</td>\n",
       "      <td>sdsdsfd</td>\n",
       "      <td>sdsdv</td>\n",
       "      <td>3</td>\n",
       "      <td>dsvsv</td>\n",
       "      <td>677ecaecd60271cc5e433285</td>\n",
       "      <td>0</td>\n",
       "    </tr>\n",
       "    <tr>\n",
       "      <th>2</th>\n",
       "      <td>art and design</td>\n",
       "      <td>drawing</td>\n",
       "      <td>royal</td>\n",
       "      <td>3</td>\n",
       "      <td>ajkabskja</td>\n",
       "      <td>677fff4a4b252bc2198f4b95</td>\n",
       "      <td>0</td>\n",
       "    </tr>\n",
       "    <tr>\n",
       "      <th>3</th>\n",
       "      <td>health and wellness</td>\n",
       "      <td>mafas</td>\n",
       "      <td>mafa</td>\n",
       "      <td>5</td>\n",
       "      <td>sjankx</td>\n",
       "      <td>677fff4a4b252bc2198f4b95</td>\n",
       "      <td>0</td>\n",
       "    </tr>\n",
       "  </tbody>\n",
       "</table>\n",
       "</div>"
      ],
      "text/plain": [
       "              category             title        tutor  duration  \\\n",
       "0             business  business related  kandy tutor         3   \n",
       "1           technology           sdsdsfd        sdsdv         3   \n",
       "2       art and design           drawing        royal         3   \n",
       "3  health and wellness             mafas         mafa         5   \n",
       "\n",
       "            description                   tutorId  __v  \n",
       "0  hi hellow i am mafas  677ecaecd60271cc5e433285    0  \n",
       "1                 dsvsv  677ecaecd60271cc5e433285    0  \n",
       "2             ajkabskja  677fff4a4b252bc2198f4b95    0  \n",
       "3                sjankx  677fff4a4b252bc2198f4b95    0  "
      ]
     },
     "execution_count": 48,
     "metadata": {},
     "output_type": "execute_result"
    }
   ],
   "source": [
    "df"
   ]
  },
  {
   "cell_type": "code",
   "execution_count": 49,
   "id": "5cb50ddb-578b-4b54-a39e-bd4daa8fe3c4",
   "metadata": {},
   "outputs": [],
   "source": [
    "#Ensure numeric columns\n",
    "df['duration'] = pd.to_numeric(df['duration'], errors='coerce')  # Convert to numeric\n",
    "df['duration'] = df['duration'].fillna(0)  # Fill missing durations with 0"
   ]
  },
  {
   "cell_type": "code",
   "execution_count": 50,
   "id": "489fcf28-69bb-4db2-9659-6a00cc45ae16",
   "metadata": {},
   "outputs": [
    {
     "data": {
      "text/html": [
       "<div>\n",
       "<style scoped>\n",
       "    .dataframe tbody tr th:only-of-type {\n",
       "        vertical-align: middle;\n",
       "    }\n",
       "\n",
       "    .dataframe tbody tr th {\n",
       "        vertical-align: top;\n",
       "    }\n",
       "\n",
       "    .dataframe thead th {\n",
       "        text-align: right;\n",
       "    }\n",
       "</style>\n",
       "<table border=\"1\" class=\"dataframe\">\n",
       "  <thead>\n",
       "    <tr style=\"text-align: right;\">\n",
       "      <th></th>\n",
       "      <th>category</th>\n",
       "      <th>title</th>\n",
       "      <th>tutor</th>\n",
       "      <th>duration</th>\n",
       "      <th>description</th>\n",
       "      <th>tutorId</th>\n",
       "      <th>__v</th>\n",
       "    </tr>\n",
       "  </thead>\n",
       "  <tbody>\n",
       "    <tr>\n",
       "      <th>0</th>\n",
       "      <td>business</td>\n",
       "      <td>business related</td>\n",
       "      <td>kandy tutor</td>\n",
       "      <td>3</td>\n",
       "      <td>hi hellow i am mafas</td>\n",
       "      <td>677ecaecd60271cc5e433285</td>\n",
       "      <td>0</td>\n",
       "    </tr>\n",
       "    <tr>\n",
       "      <th>1</th>\n",
       "      <td>technology</td>\n",
       "      <td>sdsdsfd</td>\n",
       "      <td>sdsdv</td>\n",
       "      <td>3</td>\n",
       "      <td>dsvsv</td>\n",
       "      <td>677ecaecd60271cc5e433285</td>\n",
       "      <td>0</td>\n",
       "    </tr>\n",
       "    <tr>\n",
       "      <th>2</th>\n",
       "      <td>art and design</td>\n",
       "      <td>drawing</td>\n",
       "      <td>royal</td>\n",
       "      <td>3</td>\n",
       "      <td>ajkabskja</td>\n",
       "      <td>677fff4a4b252bc2198f4b95</td>\n",
       "      <td>0</td>\n",
       "    </tr>\n",
       "    <tr>\n",
       "      <th>3</th>\n",
       "      <td>health and wellness</td>\n",
       "      <td>mafas</td>\n",
       "      <td>mafa</td>\n",
       "      <td>5</td>\n",
       "      <td>sjankx</td>\n",
       "      <td>677fff4a4b252bc2198f4b95</td>\n",
       "      <td>0</td>\n",
       "    </tr>\n",
       "  </tbody>\n",
       "</table>\n",
       "</div>"
      ],
      "text/plain": [
       "              category             title        tutor  duration  \\\n",
       "0             business  business related  kandy tutor         3   \n",
       "1           technology           sdsdsfd        sdsdv         3   \n",
       "2       art and design           drawing        royal         3   \n",
       "3  health and wellness             mafas         mafa         5   \n",
       "\n",
       "            description                   tutorId  __v  \n",
       "0  hi hellow i am mafas  677ecaecd60271cc5e433285    0  \n",
       "1                 dsvsv  677ecaecd60271cc5e433285    0  \n",
       "2             ajkabskja  677fff4a4b252bc2198f4b95    0  \n",
       "3                sjankx  677fff4a4b252bc2198f4b95    0  "
      ]
     },
     "execution_count": 50,
     "metadata": {},
     "output_type": "execute_result"
    }
   ],
   "source": [
    "df"
   ]
  },
  {
   "cell_type": "code",
   "execution_count": 51,
   "id": "08489a09-5a3b-4322-9e9a-3ec97ad86d9b",
   "metadata": {},
   "outputs": [
    {
     "name": "stdout",
     "output_type": "stream",
     "text": [
      "category       object\n",
      "title          object\n",
      "tutor          object\n",
      "duration        int64\n",
      "description    object\n",
      "tutorId        object\n",
      "__v             int64\n",
      "dtype: object\n"
     ]
    }
   ],
   "source": [
    "print(df.dtypes)"
   ]
  },
  {
   "cell_type": "code",
   "execution_count": 52,
   "id": "6e009835-d922-4452-b39d-7b0525ddbd69",
   "metadata": {},
   "outputs": [],
   "source": [
    "#Encode tutorID\n",
    "\n",
    "from sklearn.preprocessing import LabelEncoder\n",
    "\n",
    "encoder = LabelEncoder()\n",
    "df['tutorId'] = encoder.fit_transform(df['tutorId'])"
   ]
  },
  {
   "cell_type": "code",
   "execution_count": 53,
   "id": "a45b3f9c-ad41-4027-8cd3-a3aafdaf20ed",
   "metadata": {},
   "outputs": [],
   "source": [
    "df['combined_text'] = df['category'] + '' + df['title'] + '' + df['description']"
   ]
  },
  {
   "cell_type": "code",
   "execution_count": 54,
   "id": "cc5f5813-6c59-47d7-9df5-c7b4e1519fbb",
   "metadata": {},
   "outputs": [
    {
     "data": {
      "text/html": [
       "<div>\n",
       "<style scoped>\n",
       "    .dataframe tbody tr th:only-of-type {\n",
       "        vertical-align: middle;\n",
       "    }\n",
       "\n",
       "    .dataframe tbody tr th {\n",
       "        vertical-align: top;\n",
       "    }\n",
       "\n",
       "    .dataframe thead th {\n",
       "        text-align: right;\n",
       "    }\n",
       "</style>\n",
       "<table border=\"1\" class=\"dataframe\">\n",
       "  <thead>\n",
       "    <tr style=\"text-align: right;\">\n",
       "      <th></th>\n",
       "      <th>category</th>\n",
       "      <th>title</th>\n",
       "      <th>tutor</th>\n",
       "      <th>duration</th>\n",
       "      <th>description</th>\n",
       "      <th>tutorId</th>\n",
       "      <th>__v</th>\n",
       "      <th>combined_text</th>\n",
       "    </tr>\n",
       "  </thead>\n",
       "  <tbody>\n",
       "    <tr>\n",
       "      <th>0</th>\n",
       "      <td>business</td>\n",
       "      <td>business related</td>\n",
       "      <td>kandy tutor</td>\n",
       "      <td>3</td>\n",
       "      <td>hi hellow i am mafas</td>\n",
       "      <td>0</td>\n",
       "      <td>0</td>\n",
       "      <td>businessbusiness relatedhi hellow i am mafas</td>\n",
       "    </tr>\n",
       "    <tr>\n",
       "      <th>1</th>\n",
       "      <td>technology</td>\n",
       "      <td>sdsdsfd</td>\n",
       "      <td>sdsdv</td>\n",
       "      <td>3</td>\n",
       "      <td>dsvsv</td>\n",
       "      <td>0</td>\n",
       "      <td>0</td>\n",
       "      <td>technologysdsdsfddsvsv</td>\n",
       "    </tr>\n",
       "    <tr>\n",
       "      <th>2</th>\n",
       "      <td>art and design</td>\n",
       "      <td>drawing</td>\n",
       "      <td>royal</td>\n",
       "      <td>3</td>\n",
       "      <td>ajkabskja</td>\n",
       "      <td>1</td>\n",
       "      <td>0</td>\n",
       "      <td>art and designdrawingajkabskja</td>\n",
       "    </tr>\n",
       "    <tr>\n",
       "      <th>3</th>\n",
       "      <td>health and wellness</td>\n",
       "      <td>mafas</td>\n",
       "      <td>mafa</td>\n",
       "      <td>5</td>\n",
       "      <td>sjankx</td>\n",
       "      <td>1</td>\n",
       "      <td>0</td>\n",
       "      <td>health and wellnessmafassjankx</td>\n",
       "    </tr>\n",
       "  </tbody>\n",
       "</table>\n",
       "</div>"
      ],
      "text/plain": [
       "              category             title        tutor  duration  \\\n",
       "0             business  business related  kandy tutor         3   \n",
       "1           technology           sdsdsfd        sdsdv         3   \n",
       "2       art and design           drawing        royal         3   \n",
       "3  health and wellness             mafas         mafa         5   \n",
       "\n",
       "            description  tutorId  __v  \\\n",
       "0  hi hellow i am mafas        0    0   \n",
       "1                 dsvsv        0    0   \n",
       "2             ajkabskja        1    0   \n",
       "3                sjankx        1    0   \n",
       "\n",
       "                                  combined_text  \n",
       "0  businessbusiness relatedhi hellow i am mafas  \n",
       "1                        technologysdsdsfddsvsv  \n",
       "2                art and designdrawingajkabskja  \n",
       "3                health and wellnessmafassjankx  "
      ]
     },
     "execution_count": 54,
     "metadata": {},
     "output_type": "execute_result"
    }
   ],
   "source": [
    "df"
   ]
  },
  {
   "cell_type": "code",
   "execution_count": 55,
   "id": "9b6099e2-5e4f-47e0-b16a-57c0d83a9a36",
   "metadata": {},
   "outputs": [],
   "source": [
    "df.to_csv(\"cleaned_courses.csv\", index=False)"
   ]
  },
  {
   "cell_type": "code",
   "execution_count": 56,
   "id": "546722c2-76d0-4e74-8ea2-a1d2336b4d20",
   "metadata": {},
   "outputs": [],
   "source": [
    "#Recomendation"
   ]
  },
  {
   "cell_type": "code",
   "execution_count": 57,
   "id": "305dc6f6-9f4d-4ccb-941a-99c65719c58b",
   "metadata": {},
   "outputs": [],
   "source": [
    "from sklearn.model_selection import train_test_split\n",
    "\n",
    "train_data, test_data = train_test_split(df, test_size=0.2, random_state=42)"
   ]
  },
  {
   "cell_type": "code",
   "execution_count": 58,
   "id": "83a31e3a-7e02-4e3f-9c6d-56601f21fd67",
   "metadata": {},
   "outputs": [],
   "source": [
    "#Build the recomendation system   Content Based filtering\n",
    "#convert text features into numerical representation (e.g. TF-IDF) "
   ]
  },
  {
   "cell_type": "code",
   "execution_count": 59,
   "id": "35a602c5-68f6-4def-8889-93258269b4a0",
   "metadata": {},
   "outputs": [],
   "source": [
    "from sklearn.feature_extraction.text import TfidfVectorizer\n",
    "from sklearn.metrics.pairwise import cosine_similarity\n",
    "\n",
    "tfidf = TfidfVectorizer(stop_words='english')\n",
    "tfidf_matrix = tfidf.fit_transform(df['combined_text'])\n",
    "\n",
    "#Compute similarity matrix\n",
    "cosine_sim = cosine_similarity(tfidf_matrix, tfidf_matrix)"
   ]
  },
  {
   "cell_type": "code",
   "execution_count": 60,
   "id": "be8cdbfb-8a5c-4f44-b21d-69181863c39d",
   "metadata": {},
   "outputs": [],
   "source": [
    "def get_recommendations(title, df, cosine_sim):\n",
    "    if title not in df['title'].values:\n",
    "        return f\"Title '{title}' not found in the dataset.\"\n",
    "    \n",
    "    idx = df[df['title'] == title].index[0]\n",
    "\n",
    "    sim_scores = list(enumerate(cosine_sim[idx]))\n",
    "\n",
    "    sim_scores = sorted(sim_scores, key=lambda x: x[1], reverse=True)\n",
    "\n",
    "    sim_scores = sim_scores[1:6]\n",
    "    course_indices = [i[0] for i in sim_scores]\n",
    "\n",
    "    return df['title'].iloc[course_indices]"
   ]
  },
  {
   "cell_type": "code",
   "execution_count": 63,
   "id": "5e1dd9ab-5ece-4a6d-a349-2aad3641be2b",
   "metadata": {},
   "outputs": [
    {
     "name": "stdout",
     "output_type": "stream",
     "text": [
      "Recommended Courses:\n",
      "0    business related\n",
      "1             sdsdsfd\n",
      "2             drawing\n",
      "Name: title, dtype: object\n"
     ]
    }
   ],
   "source": [
    "recommendations = get_recommendations('mafas', df, cosine_sim)\n",
    "\n",
    "if isinstance(recommendations, str):  \n",
    "    print(recommendations)\n",
    "else:\n",
    "    print(\"Recommended Courses:\")\n",
    "    print(recommendations)"
   ]
  },
  {
   "cell_type": "code",
   "execution_count": null,
   "id": "759abcbd-8f90-4585-8107-4be85f7eb467",
   "metadata": {},
   "outputs": [],
   "source": []
  }
 ],
 "metadata": {
  "kernelspec": {
   "display_name": "Python 3 (ipykernel)",
   "language": "python",
   "name": "python3"
  },
  "language_info": {
   "codemirror_mode": {
    "name": "ipython",
    "version": 3
   },
   "file_extension": ".py",
   "mimetype": "text/x-python",
   "name": "python",
   "nbconvert_exporter": "python",
   "pygments_lexer": "ipython3",
   "version": "3.11.5"
  }
 },
 "nbformat": 4,
 "nbformat_minor": 5
}
